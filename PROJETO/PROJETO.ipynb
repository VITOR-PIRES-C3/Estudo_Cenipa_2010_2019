{
 "cells": [
  {
   "cell_type": "markdown",
   "id": "6bd3c129",
   "metadata": {},
   "source": [
    "### IMPORTANDO AS BIBLIOTECAS"
   ]
  },
  {
   "cell_type": "code",
   "execution_count": 1,
   "id": "45ea5924",
   "metadata": {},
   "outputs": [],
   "source": [
    "import pandas as pd \n",
    "import seaborn as sns\n",
    "import matplotlib.pyplot as plt"
   ]
  },
  {
   "cell_type": "markdown",
   "id": "5a2ed619",
   "metadata": {},
   "source": [
    "### IMPORTANDO O DATAFRAME"
   ]
  },
  {
   "cell_type": "code",
   "execution_count": 2,
   "id": "a83346bc",
   "metadata": {},
   "outputs": [],
   "source": [
    "df_CENIPA = pd.read_csv(\"https://raw.githubusercontent.com/EdsonMSouza/08_T22_QUI_N/main/CENIPA/ocorrencias_cenipa.csv\", sep=';', encoding='latin-1')"
   ]
  },
  {
   "cell_type": "code",
   "execution_count": 3,
   "id": "69403984",
   "metadata": {},
   "outputs": [
    {
     "data": {
      "text/html": [
       "<div>\n",
       "<style scoped>\n",
       "    .dataframe tbody tr th:only-of-type {\n",
       "        vertical-align: middle;\n",
       "    }\n",
       "\n",
       "    .dataframe tbody tr th {\n",
       "        vertical-align: top;\n",
       "    }\n",
       "\n",
       "    .dataframe thead th {\n",
       "        text-align: right;\n",
       "    }\n",
       "</style>\n",
       "<table border=\"1\" class=\"dataframe\">\n",
       "  <thead>\n",
       "    <tr style=\"text-align: right;\">\n",
       "      <th></th>\n",
       "      <th>codigo</th>\n",
       "      <th>tipo</th>\n",
       "      <th>descricao</th>\n",
       "      <th>cidade</th>\n",
       "      <th>estado</th>\n",
       "      <th>data</th>\n",
       "      <th>ano</th>\n",
       "      <th>hora</th>\n",
       "      <th>aeronave_liberada</th>\n",
       "      <th>status_investigacao</th>\n",
       "      <th>...</th>\n",
       "      <th>ocorrencia_saida_pista</th>\n",
       "      <th>aeronave_tipo</th>\n",
       "      <th>aeronave_fabricante</th>\n",
       "      <th>motor_tipo</th>\n",
       "      <th>aeronave_motor_quantidade</th>\n",
       "      <th>aeronave_assentos</th>\n",
       "      <th>aeronave_ano_fabricacao</th>\n",
       "      <th>aeronave_pais_fabricante</th>\n",
       "      <th>aeronave_fase_operacao</th>\n",
       "      <th>aeronave_nivel_dano</th>\n",
       "    </tr>\n",
       "  </thead>\n",
       "  <tbody>\n",
       "    <tr>\n",
       "      <th>0</th>\n",
       "      <td>40107</td>\n",
       "      <td>ACIDENTE</td>\n",
       "      <td>COLISÃO COM OBSTÁCULO DURANTE A DECOLAGEM E POUSO</td>\n",
       "      <td>GURUPÁ</td>\n",
       "      <td>PA</td>\n",
       "      <td>12/01/2010</td>\n",
       "      <td>2010</td>\n",
       "      <td>14:30:00</td>\n",
       "      <td>SIM</td>\n",
       "      <td>FINALIZADA</td>\n",
       "      <td>...</td>\n",
       "      <td>NÃO</td>\n",
       "      <td>AVIÃO</td>\n",
       "      <td>NEIVA INDUSTRIA AERONAUTICA</td>\n",
       "      <td>PISTÃO</td>\n",
       "      <td>MONOMOTOR</td>\n",
       "      <td>7</td>\n",
       "      <td>1977</td>\n",
       "      <td>BRASIL</td>\n",
       "      <td>POUSO</td>\n",
       "      <td>LEVE</td>\n",
       "    </tr>\n",
       "    <tr>\n",
       "      <th>1</th>\n",
       "      <td>40147</td>\n",
       "      <td>ACIDENTE</td>\n",
       "      <td>FALHA OU MAU FUNCIONAMENTO DE SISTEMA / COMPON...</td>\n",
       "      <td>UNIÃO DA VITÓRIA</td>\n",
       "      <td>PR</td>\n",
       "      <td>08/04/2010</td>\n",
       "      <td>2010</td>\n",
       "      <td>14:20:00</td>\n",
       "      <td>SIM</td>\n",
       "      <td>FINALIZADA</td>\n",
       "      <td>...</td>\n",
       "      <td>SIM</td>\n",
       "      <td>AVIÃO</td>\n",
       "      <td>PIPER AIRCRAFT</td>\n",
       "      <td>PISTÃO</td>\n",
       "      <td>BIMOTOR</td>\n",
       "      <td>6</td>\n",
       "      <td>1997</td>\n",
       "      <td>BRASIL</td>\n",
       "      <td>POUSO</td>\n",
       "      <td>SUBSTANCIAL</td>\n",
       "    </tr>\n",
       "    <tr>\n",
       "      <th>2</th>\n",
       "      <td>40148</td>\n",
       "      <td>ACIDENTE</td>\n",
       "      <td>PANE SECA</td>\n",
       "      <td>CAMPO GRANDE</td>\n",
       "      <td>MS</td>\n",
       "      <td>19/03/2010</td>\n",
       "      <td>2010</td>\n",
       "      <td>19:30:00</td>\n",
       "      <td>SIM</td>\n",
       "      <td>FINALIZADA</td>\n",
       "      <td>...</td>\n",
       "      <td>NÃO</td>\n",
       "      <td>AVIÃO</td>\n",
       "      <td>CESSNA AIRCRAFT</td>\n",
       "      <td>PISTÃO</td>\n",
       "      <td>MONOMOTOR</td>\n",
       "      <td>6</td>\n",
       "      <td>1962</td>\n",
       "      <td>BRASIL</td>\n",
       "      <td>APROXIMAÇÃO FINAL</td>\n",
       "      <td>SUBSTANCIAL</td>\n",
       "    </tr>\n",
       "    <tr>\n",
       "      <th>3</th>\n",
       "      <td>40149</td>\n",
       "      <td>ACIDENTE</td>\n",
       "      <td>FALHA DO MOTOR EM VOO</td>\n",
       "      <td>LUZIÂNIA</td>\n",
       "      <td>GO</td>\n",
       "      <td>21/03/2010</td>\n",
       "      <td>2010</td>\n",
       "      <td>20:45:00</td>\n",
       "      <td>SIM</td>\n",
       "      <td>FINALIZADA</td>\n",
       "      <td>...</td>\n",
       "      <td>NÃO</td>\n",
       "      <td>AVIÃO</td>\n",
       "      <td>XAVANTE</td>\n",
       "      <td>PISTÃO</td>\n",
       "      <td>MONOMOTOR</td>\n",
       "      <td>2</td>\n",
       "      <td>1974</td>\n",
       "      <td>BRASIL</td>\n",
       "      <td>DECOLAGEM</td>\n",
       "      <td>DESTRUÍDA</td>\n",
       "    </tr>\n",
       "    <tr>\n",
       "      <th>4</th>\n",
       "      <td>40150</td>\n",
       "      <td>INCIDENTE GRAVE</td>\n",
       "      <td>COM TREM DE POUSO</td>\n",
       "      <td>SANTA MARIA</td>\n",
       "      <td>RS</td>\n",
       "      <td>10/03/2010</td>\n",
       "      <td>2010</td>\n",
       "      <td>17:20:00</td>\n",
       "      <td>SIM</td>\n",
       "      <td>FINALIZADA</td>\n",
       "      <td>...</td>\n",
       "      <td>NÃO</td>\n",
       "      <td>AVIÃO</td>\n",
       "      <td>BEECH AIRCRAFT</td>\n",
       "      <td>PISTÃO</td>\n",
       "      <td>MONOMOTOR</td>\n",
       "      <td>6</td>\n",
       "      <td>1974</td>\n",
       "      <td>BRASIL</td>\n",
       "      <td>POUSO</td>\n",
       "      <td>LEVE</td>\n",
       "    </tr>\n",
       "  </tbody>\n",
       "</table>\n",
       "<p>5 rows × 21 columns</p>\n",
       "</div>"
      ],
      "text/plain": [
       "   codigo             tipo                                          descricao  \\\n",
       "0   40107         ACIDENTE  COLISÃO COM OBSTÁCULO DURANTE A DECOLAGEM E POUSO   \n",
       "1   40147         ACIDENTE  FALHA OU MAU FUNCIONAMENTO DE SISTEMA / COMPON...   \n",
       "2   40148         ACIDENTE                                          PANE SECA   \n",
       "3   40149         ACIDENTE                              FALHA DO MOTOR EM VOO   \n",
       "4   40150  INCIDENTE GRAVE                                  COM TREM DE POUSO   \n",
       "\n",
       "             cidade estado        data   ano      hora aeronave_liberada  \\\n",
       "0            GURUPÁ     PA  12/01/2010  2010  14:30:00               SIM   \n",
       "1  UNIÃO DA VITÓRIA     PR  08/04/2010  2010  14:20:00               SIM   \n",
       "2      CAMPO GRANDE     MS  19/03/2010  2010  19:30:00               SIM   \n",
       "3          LUZIÂNIA     GO  21/03/2010  2010  20:45:00               SIM   \n",
       "4       SANTA MARIA     RS  10/03/2010  2010  17:20:00               SIM   \n",
       "\n",
       "  status_investigacao  ...  ocorrencia_saida_pista aeronave_tipo  \\\n",
       "0          FINALIZADA  ...                     NÃO         AVIÃO   \n",
       "1          FINALIZADA  ...                     SIM         AVIÃO   \n",
       "2          FINALIZADA  ...                     NÃO         AVIÃO   \n",
       "3          FINALIZADA  ...                     NÃO         AVIÃO   \n",
       "4          FINALIZADA  ...                     NÃO         AVIÃO   \n",
       "\n",
       "           aeronave_fabricante motor_tipo aeronave_motor_quantidade  \\\n",
       "0  NEIVA INDUSTRIA AERONAUTICA     PISTÃO                 MONOMOTOR   \n",
       "1               PIPER AIRCRAFT     PISTÃO                   BIMOTOR   \n",
       "2              CESSNA AIRCRAFT     PISTÃO                 MONOMOTOR   \n",
       "3                      XAVANTE     PISTÃO                 MONOMOTOR   \n",
       "4               BEECH AIRCRAFT     PISTÃO                 MONOMOTOR   \n",
       "\n",
       "  aeronave_assentos  aeronave_ano_fabricacao  aeronave_pais_fabricante  \\\n",
       "0                 7                     1977                    BRASIL   \n",
       "1                 6                     1997                    BRASIL   \n",
       "2                 6                     1962                    BRASIL   \n",
       "3                 2                     1974                    BRASIL   \n",
       "4                 6                     1974                    BRASIL   \n",
       "\n",
       "  aeronave_fase_operacao aeronave_nivel_dano  \n",
       "0                  POUSO                LEVE  \n",
       "1                  POUSO         SUBSTANCIAL  \n",
       "2      APROXIMAÇÃO FINAL         SUBSTANCIAL  \n",
       "3              DECOLAGEM           DESTRUÍDA  \n",
       "4                  POUSO                LEVE  \n",
       "\n",
       "[5 rows x 21 columns]"
      ]
     },
     "execution_count": 3,
     "metadata": {},
     "output_type": "execute_result"
    }
   ],
   "source": [
    "df_CENIPA.head()# 5 primeiras linhas"
   ]
  },
  {
   "cell_type": "markdown",
   "id": "49926cfe",
   "metadata": {},
   "source": [
    "### VERIFICANDO AS COLUNAS"
   ]
  },
  {
   "cell_type": "code",
   "execution_count": 4,
   "id": "85967b55",
   "metadata": {},
   "outputs": [
    {
     "data": {
      "text/plain": [
       "array(['codigo', 'tipo', 'descricao', 'cidade', 'estado', 'data', 'ano',\n",
       "       'hora', 'aeronave_liberada', 'status_investigacao',\n",
       "       'aeronaves_envolvidas', 'ocorrencia_saida_pista', 'aeronave_tipo',\n",
       "       'aeronave_fabricante', 'motor_tipo', 'aeronave_motor_quantidade',\n",
       "       'aeronave_assentos', 'aeronave_ano_fabricacao',\n",
       "       'aeronave_pais_fabricante', 'aeronave_fase_operacao',\n",
       "       'aeronave_nivel_dano'], dtype=object)"
      ]
     },
     "execution_count": 4,
     "metadata": {},
     "output_type": "execute_result"
    }
   ],
   "source": [
    "df_CENIPA.columns.values"
   ]
  },
  {
   "cell_type": "markdown",
   "id": "219eba08",
   "metadata": {},
   "source": [
    "### SELECIONANDO COLUNAS"
   ]
  },
  {
   "cell_type": "code",
   "execution_count": 5,
   "id": "e9a85043",
   "metadata": {},
   "outputs": [
    {
     "name": "stdout",
     "output_type": "stream",
     "text": [
      "                 tipo                 cidade estado        data  \\\n",
      "0            ACIDENTE                 GURUPÁ     PA  12/01/2010   \n",
      "1            ACIDENTE       UNIÃO DA VITÓRIA     PR  08/04/2010   \n",
      "2            ACIDENTE           CAMPO GRANDE     MS  19/03/2010   \n",
      "3            ACIDENTE               LUZIÂNIA     GO  21/03/2010   \n",
      "4     INCIDENTE GRAVE            SANTA MARIA     RS  10/03/2010   \n",
      "...               ...                    ...    ...         ...   \n",
      "5237         ACIDENTE           ASSIS BRASIL     AC  23/10/2019   \n",
      "5238         ACIDENTE  SÃO JOSÉ DO RIO CLARO     MT  11/10/2019   \n",
      "5239         ACIDENTE               ANTONINA     PR  21/09/2019   \n",
      "5240        INCIDENTE          FLORIANÓPOLIS     SC  20/12/2019   \n",
      "5241         ACIDENTE         NOVO PROGRESSO     PA  20/01/2017   \n",
      "\n",
      "     aeronave_nivel_dano   ano  \n",
      "0                   LEVE  2010  \n",
      "1            SUBSTANCIAL  2010  \n",
      "2            SUBSTANCIAL  2010  \n",
      "3              DESTRUÍDA  2010  \n",
      "4                   LEVE  2010  \n",
      "...                  ...   ...  \n",
      "5237           DESTRUÍDA  2019  \n",
      "5238           DESTRUÍDA  2019  \n",
      "5239         SUBSTANCIAL  2019  \n",
      "5240                LEVE  2019  \n",
      "5241         SUBSTANCIAL  2017  \n",
      "\n",
      "[5242 rows x 6 columns]\n"
     ]
    }
   ],
   "source": [
    "colunasSelecionadas = ['tipo','cidade','estado','data','aeronave_nivel_dano','ano']\n",
    "colunasSelecionadas = df_CENIPA.filter(items = colunasSelecionadas)\n",
    "print(colunasSelecionadas)"
   ]
  },
  {
   "cell_type": "markdown",
   "id": "73e76a5a",
   "metadata": {},
   "source": [
    "### QUANTIDADE DE INCIDENTES/ACIDENTES POR ESTADO"
   ]
  },
  {
   "cell_type": "code",
   "execution_count": 6,
   "id": "dbc9c101",
   "metadata": {},
   "outputs": [
    {
     "name": "stdout",
     "output_type": "stream",
     "text": [
      "AC      54\n",
      "AL      30\n",
      "AM     217\n",
      "AP       9\n",
      "BA     200\n",
      "CE      78\n",
      "DF     129\n",
      "ES      70\n",
      "GO     286\n",
      "MA      68\n",
      "MG     482\n",
      "MS     132\n",
      "MT     255\n",
      "PA     263\n",
      "PB      23\n",
      "PE      90\n",
      "PI      36\n",
      "PR     441\n",
      "RJ     480\n",
      "RN      14\n",
      "RO      30\n",
      "RR      49\n",
      "RS     334\n",
      "SC     166\n",
      "SE      21\n",
      "SP    1239\n",
      "TO      46\n",
      "Name: estado, dtype: int64\n",
      "\n",
      "A média estadual de acidentes/incidentes é: 194.14814814814815\n"
     ]
    },
    {
     "data": {
      "image/png": "[encoded data removed]",
      "text/plain": [
       "<Figure size 576x1080 with 1 Axes>"
      ]
     },
     "metadata": {
      "needs_background": "light"
     },
     "output_type": "display_data"
    }
   ],
   "source": [
    "coluna_nomeEstado = colunasSelecionadas['estado']\n",
    "incac_estado = coluna_nomeEstado.value_counts().sort_index()\n",
    "\n",
    "media_estado = incac_estado.mean()\n",
    "\n",
    "plt.figure(figsize = (8,15))\n",
    "sns.countplot(data = colunasSelecionadas, y='estado')\n",
    "\n",
    "print(incac_estado)\n",
    "print('')\n",
    "print('A média estadual de acidentes/incidentes é: {}'.format(media_estado))"
   ]
  },
  {
   "cell_type": "markdown",
   "id": "2fb0e90e",
   "metadata": {},
   "source": [
    "### INCIDENTES/ACIDENTES POR ANO"
   ]
  },
  {
   "cell_type": "code",
   "execution_count": 8,
   "id": "f0c17853",
   "metadata": {},
   "outputs": [
    {
     "name": "stdout",
     "output_type": "stream",
     "text": [
      "2010    552\n",
      "2011    576\n",
      "2012    647\n",
      "2013    653\n",
      "2014    567\n",
      "2015    471\n",
      "2016    403\n",
      "2017    434\n",
      "2018    443\n",
      "2019    496\n",
      "Name: ano, dtype: int64\n",
      "\n",
      "A média anual de acidentes/incidentes é: 524.2\n"
     ]
    },
    {
     "data": {
      "image/png": "[encoded data removed]",
      "text/plain": [
       "<Figure size 432x288 with 1 Axes>"
      ]
     },
     "metadata": {
      "needs_background": "light"
     },
     "output_type": "display_data"
    }
   ],
   "source": [
    "coluna_ano = colunasSelecionadas['ano']\n",
    "incac_ano = coluna_ano.value_counts().sort_index()\n",
    "\n",
    "media_ano= incac_ano.mean()\n",
    "\n",
    "sns.countplot(data = colunasSelecionadas, x ='ano')\n",
    "\n",
    "print(incac_ano)\n",
    "print('')\n",
    "print('A média anual de acidentes/incidentes é: {}'.format(media_ano))"
   ]
  },
  {
   "cell_type": "markdown",
   "id": "58a1e3c3",
   "metadata": {},
   "source": [
    "###  ACIDENTES POR ANO "
   ]
  },
  {
   "cell_type": "code",
   "execution_count": 10,
   "id": "c2a76da9",
   "metadata": {},
   "outputs": [
    {
     "name": "stdout",
     "output_type": "stream",
     "text": [
      "O total de acidentes é de 1694\n",
      "A média de acidentes é de 169.4 por ano\n"
     ]
    }
   ],
   "source": [
    "acidentes = colunasSelecionadas[colunasSelecionadas['tipo'] == 'ACIDENTE']\n",
    "qtde_acidentes = int(acidentes.shape[0])\n",
    "print('O total de acidentes é de {}'.format(qtde_acidentes))\n",
    "\n",
    "anos = coluna_ano.value_counts()\n",
    "qtde_anos = int(anos.shape[0])\n",
    "\n",
    "\n",
    "media_acidentes = qtde_acidentes / qtde_anos\n",
    "print('A média de acidentes é de {} por ano'.format(media_acidentes))"
   ]
  },
  {
   "cell_type": "markdown",
   "id": "dcc563fb",
   "metadata": {},
   "source": [
    "### COMPARAÇÃO INCIDENTES X ACIENTES"
   ]
  },
  {
   "cell_type": "code",
   "execution_count": 8,
   "id": "2b769318",
   "metadata": {},
   "outputs": [
    {
     "name": "stdout",
     "output_type": "stream",
     "text": [
      "ACIDENTE           1694\n",
      "INCIDENTE          2887\n",
      "INCIDENTE GRAVE     661\n",
      "Name: tipo, dtype: int64\n",
      "\n",
      "A média estadual de acidentes/incidentes é: 194.14814814814815\n"
     ]
    },
    {
     "data": {
      "image/png": "[encoded data removed]",
      "text/plain": [
       "<Figure size 1080x576 with 1 Axes>"
      ]
     },
     "metadata": {
      "needs_background": "light"
     },
     "output_type": "display_data"
    }
   ],
   "source": [
    "coluna_tipo = colunasSelecionadas['tipo']\n",
    "total_tipos = coluna_tipo.value_counts().sort_index()\n",
    "\n",
    "#media_estado = incac_estado.mean()\n",
    "\n",
    "plt.figure(figsize = (15,8))\n",
    "sns.lineplot(x = 'ano', y = 'tipo', data = colunasSelecionadas)\n",
    "\n",
    "print(total_tipos)\n",
    "print('')\n",
    "print('A média estadual de acidentes/incidentes é: {}'.format(media_estado))"
   ]
  },
  {
   "cell_type": "code",
   "execution_count": 12,
   "id": "dd969263",
   "metadata": {},
   "outputs": [
    {
     "data": {
      "image/png": "[encoded data removed]",
      "text/plain": [
       "<Figure size 432x288 with 1 Axes>"
      ]
     },
     "metadata": {
      "needs_background": "light"
     },
     "output_type": "display_data"
    }
   ],
   "source": [
    "colunasSelecionadas.ano.plot(kind= 'density') # kind é o tipo do gráfico (line, bar, barh)\n",
    "\n",
    "# definindo um título\n",
    "plt.title('Analisando a variável \"qsec\"', fontdict={'fontsize': 20})\n",
    "\n",
    "# definindo labels para os eixos\n",
    "plt.xlabel('n')\n",
    "plt.ylabel('Percentual')\n",
    "plt.show()"
   ]
  },
  {
   "cell_type": "code",
   "execution_count": 16,
   "id": "7484c30d",
   "metadata": {},
   "outputs": [
    {
     "ename": "SyntaxError",
     "evalue": "invalid syntax (<ipython-input-16-f0b8d0958d11>, line 6)",
     "output_type": "error",
     "traceback": [
      "\u001b[1;36m  File \u001b[1;32m\"<ipython-input-16-f0b8d0958d11>\"\u001b[1;36m, line \u001b[1;32m6\u001b[0m\n\u001b[1;33m    sns.countplot(data = colunasSelecionadas, x ='ano', y = '(tipo['ACIDENTE'])')\u001b[0m\n\u001b[1;37m                                                                    ^\u001b[0m\n\u001b[1;31mSyntaxError\u001b[0m\u001b[1;31m:\u001b[0m invalid syntax\n"
     ]
    }
   ],
   "source": [
    "coluna_ano = colunasSelecionadas['ano']\n",
    "incac_ano = coluna_ano.value_counts().sort_index()\n",
    "\n",
    "media_ano= incac_ano.mean()\n",
    "\n",
    "sns.countplot(data = colunasSelecionadas, x ='ano', y = )\n",
    "\n",
    "print(incac_ano)\n",
    "print('')\n",
    "print('A média anual de acidentes/incidentes é: {}'.format(media_ano))"
   ]
  }
 ],
 "metadata": {
  "kernelspec": {
   "display_name": "Python 3",
   "language": "python",
   "name": "python3"
  },
  "language_info": {
   "codemirror_mode": {
    "name": "ipython",
    "version": 3
   },
   "file_extension": ".py",
   "mimetype": "text/x-python",
   "name": "python",
   "nbconvert_exporter": "python",
   "pygments_lexer": "ipython3",
   "version": "3.8.8"
  }
 },
 "nbformat": 4,
 "nbformat_minor": 5
}
